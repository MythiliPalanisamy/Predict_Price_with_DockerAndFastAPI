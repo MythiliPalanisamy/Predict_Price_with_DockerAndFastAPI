{
 "cells": [
  {
   "cell_type": "code",
   "execution_count": 158,
   "metadata": {},
   "outputs": [],
   "source": [
    "import pandas as pd\n",
    "import numpy as np\n",
    "import pickle\n",
    "import warnings\n"
   ]
  },
  {
   "cell_type": "code",
   "execution_count": 165,
   "metadata": {},
   "outputs": [
    {
     "data": {
      "text/html": [
       "<div>\n",
       "<style scoped>\n",
       "    .dataframe tbody tr th:only-of-type {\n",
       "        vertical-align: middle;\n",
       "    }\n",
       "\n",
       "    .dataframe tbody tr th {\n",
       "        vertical-align: top;\n",
       "    }\n",
       "\n",
       "    .dataframe thead th {\n",
       "        text-align: right;\n",
       "    }\n",
       "</style>\n",
       "<table border=\"1\" class=\"dataframe\">\n",
       "  <thead>\n",
       "    <tr style=\"text-align: right;\">\n",
       "      <th></th>\n",
       "      <th>type_of_property</th>\n",
       "      <th>postal_code</th>\n",
       "      <th>bedrooms</th>\n",
       "      <th>energy_class</th>\n",
       "      <th>surface_of_the_plot</th>\n",
       "      <th>living_room_surface</th>\n",
       "      <th>number_of_frontages</th>\n",
       "      <th>building_condition</th>\n",
       "      <th>bathrooms</th>\n",
       "      <th>toilets</th>\n",
       "      <th>kitchen_type</th>\n",
       "      <th>heating_type</th>\n",
       "      <th>province</th>\n",
       "    </tr>\n",
       "  </thead>\n",
       "  <tbody>\n",
       "    <tr>\n",
       "      <th>0</th>\n",
       "      <td>house</td>\n",
       "      <td>2100</td>\n",
       "      <td>3</td>\n",
       "      <td>A</td>\n",
       "      <td>230</td>\n",
       "      <td>20</td>\n",
       "      <td>2</td>\n",
       "      <td>As New</td>\n",
       "      <td>2</td>\n",
       "      <td>2</td>\n",
       "      <td>Installed</td>\n",
       "      <td>Gas</td>\n",
       "      <td>East Flanders</td>\n",
       "    </tr>\n",
       "  </tbody>\n",
       "</table>\n",
       "</div>"
      ],
      "text/plain": [
       "  type_of_property postal_code bedrooms energy_class surface_of_the_plot  \\\n",
       "0            house        2100        3            A                 230   \n",
       "\n",
       "  living_room_surface number_of_frontages building_condition bathrooms  \\\n",
       "0                  20                   2             As New         2   \n",
       "\n",
       "  toilets kitchen_type heating_type       province  \n",
       "0       2    Installed          Gas  East Flanders  "
      ]
     },
     "execution_count": 165,
     "metadata": {},
     "output_type": "execute_result"
    }
   ],
   "source": [
    "info = {'type_of_property': 'house', 'postal_code' : 2100,  'bedrooms' : 3 , 'energy_class' : 'A',\n",
    "'surface_of_the_plot': 230, 'living_room_surface' : 20, 'number_of_frontages' : 2,\n",
    "'building_condition': 'As New', 'bathrooms' : 2, 'toilets':2, 'kitchen_type': 'Installed' , 'heating_type' : 'Gas', 'province' :'East Flanders'}\n",
    "\n",
    "data = pd.DataFrame.from_dict(info, orient='index').T\n",
    "data"
   ]
  },
  {
   "cell_type": "code",
   "execution_count": 160,
   "metadata": {},
   "outputs": [
    {
     "name": "stdout",
     "output_type": "stream",
     "text": [
      "[[0. 0. 0. 0. 0. 0. 0. 0. 0. 0. 1. 0. 0. 0. 0. 0. 0. 0. 0. 0. 0. 0. 0. 0.\n",
      "  0. 0. 0. 0. 0. 0. 0. 1. 0. 0. 0. 0. 0. 0. 0. 0. 1. 0. 0. 0. 0. 0. 0. 0.\n",
      "  0. 0. 1. 0. 0. 0. 0. 0. 0. 0. 0. 0. 0. 0. 0. 0. 0. 0. 1. 0. 0. 0.]]\n"
     ]
    },
    {
     "data": {
      "text/html": [
       "<div>\n",
       "<style scoped>\n",
       "    .dataframe tbody tr th:only-of-type {\n",
       "        vertical-align: middle;\n",
       "    }\n",
       "\n",
       "    .dataframe tbody tr th {\n",
       "        vertical-align: top;\n",
       "    }\n",
       "\n",
       "    .dataframe thead th {\n",
       "        text-align: right;\n",
       "    }\n",
       "</style>\n",
       "<table border=\"1\" class=\"dataframe\">\n",
       "  <thead>\n",
       "    <tr style=\"text-align: right;\">\n",
       "      <th></th>\n",
       "      <th>bedrooms</th>\n",
       "      <th>surface_of_the_plot</th>\n",
       "      <th>living_room_surface</th>\n",
       "      <th>number_of_frontages</th>\n",
       "      <th>bathrooms</th>\n",
       "      <th>toilets</th>\n",
       "      <th>apartment</th>\n",
       "      <th>bungalow</th>\n",
       "      <th>castle</th>\n",
       "      <th>chalet</th>\n",
       "      <th>...</th>\n",
       "      <th>G_F</th>\n",
       "      <th>NS</th>\n",
       "      <th>0</th>\n",
       "      <th>Carbon</th>\n",
       "      <th>Electric</th>\n",
       "      <th>Fuel oil</th>\n",
       "      <th>Gas</th>\n",
       "      <th>Pellet</th>\n",
       "      <th>Solar</th>\n",
       "      <th>Wood</th>\n",
       "    </tr>\n",
       "  </thead>\n",
       "  <tbody>\n",
       "    <tr>\n",
       "      <th>0</th>\n",
       "      <td>3</td>\n",
       "      <td>0.007036</td>\n",
       "      <td>0.071429</td>\n",
       "      <td>2</td>\n",
       "      <td>2</td>\n",
       "      <td>2</td>\n",
       "      <td>0.0</td>\n",
       "      <td>0.0</td>\n",
       "      <td>0.0</td>\n",
       "      <td>0.0</td>\n",
       "      <td>...</td>\n",
       "      <td>0.0</td>\n",
       "      <td>0.0</td>\n",
       "      <td>0.0</td>\n",
       "      <td>0.0</td>\n",
       "      <td>0.0</td>\n",
       "      <td>0.0</td>\n",
       "      <td>1.0</td>\n",
       "      <td>0.0</td>\n",
       "      <td>0.0</td>\n",
       "      <td>0.0</td>\n",
       "    </tr>\n",
       "  </tbody>\n",
       "</table>\n",
       "<p>1 rows × 76 columns</p>\n",
       "</div>"
      ],
      "text/plain": [
       "   bedrooms  surface_of_the_plot  living_room_surface  number_of_frontages  \\\n",
       "0         3             0.007036             0.071429                    2   \n",
       "\n",
       "   bathrooms  toilets  apartment  bungalow  castle  chalet  ...  G_F   NS  \\\n",
       "0          2        2        0.0       0.0     0.0     0.0  ...  0.0  0.0   \n",
       "\n",
       "     0  Carbon  Electric  Fuel oil  Gas  Pellet  Solar  Wood  \n",
       "0  0.0     0.0       0.0       0.0  1.0     0.0    0.0   0.0  \n",
       "\n",
       "[1 rows x 76 columns]"
      ]
     },
     "metadata": {},
     "output_type": "display_data"
    },
    {
     "name": "stderr",
     "output_type": "stream",
     "text": [
      "c:\\Users\\Karthick Palanivel\\Documents\\GitHub\\GNT-Arai-5\\.venv\\lib\\site-packages\\sklearn\\utils\\validation.py:1692: FutureWarning: Feature names only support names that are all strings. Got feature names with dtypes: ['float', 'str']. An error will be raised in 1.2.\n",
      "  FutureWarning,\n"
     ]
    },
    {
     "data": {
      "text/plain": [
       "array([436090.41])"
      ]
     },
     "execution_count": 160,
     "metadata": {},
     "output_type": "execute_result"
    }
   ],
   "source": [
    "\n",
    "\n",
    "column=[ 'type_of_property', 'building_condition', 'kitchen_type',  'province','energy_class', 'heating_type',] # catagorical\n",
    "#column1 = ['Surface of the plot', 'Living room surface', ] # scaling to be\n",
    "\n",
    "ohe = pickle.load(open(r'C:\\Users\\Karthick Palanivel\\Documents\\GitHub\\Price_prediction\\models\\ohe.pickle', 'rb'))\n",
    "\n",
    "one_hot_encoded_array = ohe.transform(data[column]).toarray()\n",
    "print(one_hot_encoded_array)\n",
    "\n",
    "categories = np.concatenate(ohe.categories_)\n",
    "encoded_dataframe = pd.DataFrame(one_hot_encoded_array, columns=categories)\n",
    "encoded_dataframe\n",
    "\n",
    "data = data.drop(columns=[ 'type_of_property', 'building_condition', 'kitchen_type',  'province','energy_class', 'heating_type','postal_code'])\n",
    "data = data.astype(int)\n",
    "\n",
    "new = pd.concat([data,encoded_dataframe], axis=1)\n",
    "\n",
    "minmax_scaler = pickle.load(open(r'C:\\Users\\Karthick Palanivel\\Documents\\GitHub\\Price_prediction\\models\\minmax_scaler.pickle', 'rb'))\n",
    "\n",
    "new[['surface_of_the_plot', 'living_room_surface']] = minmax_scaler.transform(new[['surface_of_the_plot', 'living_room_surface']])\n",
    "display(new)\n",
    "\n",
    "new=new.drop(columns=['G_F','NS','C_B','0'])\n",
    "forest = pickle.load(open(r'C:\\Users\\Karthick Palanivel\\Documents\\GitHub\\Price_prediction\\models\\forest_pickle.pickle', 'rb'))\n",
    "forest.predict(new)"
   ]
  },
  {
   "cell_type": "code",
   "execution_count": 161,
   "metadata": {},
   "outputs": [
    {
     "name": "stdout",
     "output_type": "stream",
     "text": [
      "<class 'pandas.core.frame.DataFrame'>\n",
      "RangeIndex: 1 entries, 0 to 0\n",
      "Data columns (total 70 columns):\n",
      " #   Column                                    Non-Null Count  Dtype  \n",
      "---  ------                                    --------------  -----  \n",
      " 0   bedrooms                                  1 non-null      int32  \n",
      " 1   surface_of_the_plot                       1 non-null      float64\n",
      " 2   living_room_surface                       1 non-null      float64\n",
      " 3   number_of_frontages                       1 non-null      int32  \n",
      " 4   bathrooms                                 1 non-null      int32  \n",
      " 5   toilets                                   1 non-null      int32  \n",
      " 6   apartment                                 1 non-null      float64\n",
      " 7   bungalow                                  1 non-null      float64\n",
      " 8   castle                                    1 non-null      float64\n",
      " 9   chalet                                    1 non-null      float64\n",
      " 10  country-cottage                           1 non-null      float64\n",
      " 11  duplex                                    1 non-null      float64\n",
      " 12  exceptional-property                      1 non-null      float64\n",
      " 13  farmhouse                                 1 non-null      float64\n",
      " 14  flat-studio                               1 non-null      float64\n",
      " 15  ground-floor                              1 non-null      float64\n",
      " 16  house                                     1 non-null      float64\n",
      " 17  kot                                       1 non-null      float64\n",
      " 18  loft                                      1 non-null      float64\n",
      " 19  manor-house                               1 non-null      float64\n",
      " 20  mansion                                   1 non-null      float64\n",
      " 21  mixed-use-building                        1 non-null      float64\n",
      " 22  other-property                            1 non-null      float64\n",
      " 23  penthouse                                 1 non-null      float64\n",
      " 24  service-flat                              1 non-null      float64\n",
      " 25  town-house                                1 non-null      float64\n",
      " 26  triplex                                   1 non-null      float64\n",
      " 27  villa                                     1 non-null      float64\n",
      " 28  As new                                    1 non-null      float64\n",
      " 29  Good                                      1 non-null      float64\n",
      " 30  Just renovated                            1 non-null      float64\n",
      " 31  To be done up                             1 non-null      float64\n",
      " 32  To renovate                               1 non-null      float64\n",
      " 33  To restore                                1 non-null      float64\n",
      " 34  Hyper equipped                            1 non-null      float64\n",
      " 35  Installed                                 1 non-null      float64\n",
      " 36  Not installed                             1 non-null      float64\n",
      " 37  Semi equipped                             1 non-null      float64\n",
      " 38  USA hyper equipped                        1 non-null      float64\n",
      " 39  USA installed                             1 non-null      float64\n",
      " 40  USA semi equipped                         1 non-null      float64\n",
      " 41  USA uninstalled                           1 non-null      float64\n",
      " 42  Antwerp                                   1 non-null      float64\n",
      " 43  Brussels Capital Region                   1 non-null      float64\n",
      " 44  East Flanders                             1 non-null      float64\n",
      " 45  Flemish Brabant                           1 non-null      float64\n",
      " 46  Hainaut (West)                            1 non-null      float64\n",
      " 47  Limburg                                   1 non-null      float64\n",
      " 48  Liège                                     1 non-null      float64\n",
      " 49  Luxembourg (shared with Eastern Hainaut)  1 non-null      float64\n",
      " 50  Namur                                     1 non-null      float64\n",
      " 51  Walloon Brabant                           1 non-null      float64\n",
      " 52  West Flanders                             1 non-null      float64\n",
      " 53  nan                                       1 non-null      float64\n",
      " 54  A                                         1 non-null      float64\n",
      " 55  A+                                        1 non-null      float64\n",
      " 56  A++                                       1 non-null      float64\n",
      " 57  B                                         1 non-null      float64\n",
      " 58  C                                         1 non-null      float64\n",
      " 59  D                                         1 non-null      float64\n",
      " 60  E                                         1 non-null      float64\n",
      " 61  F                                         1 non-null      float64\n",
      " 62  G                                         1 non-null      float64\n",
      " 63  Carbon                                    1 non-null      float64\n",
      " 64  Electric                                  1 non-null      float64\n",
      " 65  Fuel oil                                  1 non-null      float64\n",
      " 66  Gas                                       1 non-null      float64\n",
      " 67  Pellet                                    1 non-null      float64\n",
      " 68  Solar                                     1 non-null      float64\n",
      " 69  Wood                                      1 non-null      float64\n",
      "dtypes: float64(66), int32(4)\n",
      "memory usage: 672.0 bytes\n"
     ]
    }
   ],
   "source": [
    "new.info()"
   ]
  },
  {
   "cell_type": "code",
   "execution_count": 169,
   "metadata": {},
   "outputs": [
    {
     "name": "stdout",
     "output_type": "stream",
     "text": [
      "1\n",
      "1\n",
      "<class 'list'>\n",
      "<class 'numpy.ndarray'>\n"
     ]
    }
   ],
   "source": [
    "a = [1]\n",
    "b=np.array(a)\n",
    "print(a[0])\n",
    "print(b[0])\n",
    "print(type(a))\n",
    "print(type(b))"
   ]
  }
 ],
 "metadata": {
  "kernelspec": {
   "display_name": ".venv",
   "language": "python",
   "name": "python3"
  },
  "language_info": {
   "codemirror_mode": {
    "name": "ipython",
    "version": 3
   },
   "file_extension": ".py",
   "mimetype": "text/x-python",
   "name": "python",
   "nbconvert_exporter": "python",
   "pygments_lexer": "ipython3",
   "version": "3.7.3"
  },
  "orig_nbformat": 4
 },
 "nbformat": 4,
 "nbformat_minor": 2
}
